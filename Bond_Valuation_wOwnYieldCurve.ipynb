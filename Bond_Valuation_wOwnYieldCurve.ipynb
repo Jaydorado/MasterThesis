{
 "cells": [
  {
   "cell_type": "code",
   "execution_count": 1,
   "metadata": {},
   "outputs": [],
   "source": [
    "from QuantLib import *\n",
    "import pandas as pd\n",
    "import numpy as np\n",
    "import matplotlib.pyplot as plt\n",
    "%matplotlib inline"
   ]
  },
  {
   "cell_type": "code",
   "execution_count": 2,
   "metadata": {},
   "outputs": [],
   "source": [
    "depo_maturities = [Period(6,Months), Period(12, Months)]\n",
    "depo_rates = [0.0, 0.005]\n",
    "# Bond rates\n",
    "bond_maturities = [Period(6*i, Months) for i in range(3,21)]\n",
    "bond_rates = [0.007, 0.009, 0.012, 0.015, 0.019, 0.024, 0.025, 0.027, 0.028,\n",
    "0.029, 0.03, 0.035, 0.04, 0.05, 0.06, 0.07, 0.075, 0.08]\n"
   ]
  },
  {
   "cell_type": "code",
   "execution_count": 3,
   "metadata": {},
   "outputs": [
    {
     "data": {
      "text/plain": [
       "[Period(\"6M\"), Period(\"1Y\")]"
      ]
     },
     "execution_count": 3,
     "metadata": {},
     "output_type": "execute_result"
    }
   ],
   "source": [
    "depo_maturities"
   ]
  },
  {
   "cell_type": "code",
   "execution_count": 4,
   "metadata": {},
   "outputs": [],
   "source": [
    "calc_date = Date(15, 1, 2018)\n",
    "Settings.instance().evaluationDate = calc_date\n",
    "calendar = UnitedStates()\n",
    "business_convention = Unadjusted\n",
    "day_count = Thirty360()\n",
    "end_of_month = True\n",
    "settlement_days = 0\n",
    "face_amount = 100\n",
    "coupon_frequency = Period(Semiannual)\n",
    "settlement_days = 0"
   ]
  },
  {
   "cell_type": "code",
   "execution_count": 5,
   "metadata": {},
   "outputs": [],
   "source": [
    "depo_helpers = [DepositRateHelper(QuoteHandle(SimpleQuote(r/100.0)),\n",
    "                m,\n",
    "                settlement_days,\n",
    "                calendar,\n",
    "                business_convention,\n",
    "                end_of_month,\n",
    "                day_count )\n",
    "for r, m in zip(depo_rates, depo_maturities)]"
   ]
  },
  {
   "cell_type": "code",
   "execution_count": 6,
   "metadata": {},
   "outputs": [],
   "source": [
    "bond_helpers = []\n",
    "for r, m in zip(bond_rates, bond_maturities):\n",
    "    termination_date = calc_date + m\n",
    "    schedule = Schedule(calc_date,\n",
    "                   termination_date,\n",
    "                   coupon_frequency,\n",
    "                   calendar,\n",
    "                   business_convention,\n",
    "                   business_convention,\n",
    "                   DateGeneration.Backward,\n",
    "                   end_of_month)\n",
    "\n",
    "    helper = FixedRateBondHelper(QuoteHandle(SimpleQuote(face_amount)),\n",
    "                                        settlement_days,\n",
    "                                        face_amount,\n",
    "                                        schedule,\n",
    "                                        [r/100.0],\n",
    "                                        day_count,\n",
    "                                        business_convention,\n",
    "                                        )\n",
    "    bond_helpers.append(helper)"
   ]
  },
  {
   "cell_type": "code",
   "execution_count": null,
   "metadata": {},
   "outputs": [],
   "source": []
  },
  {
   "cell_type": "code",
   "execution_count": 7,
   "metadata": {},
   "outputs": [],
   "source": [
    "rate_helpers = depo_helpers + bond_helpers\n",
    "yieldcurve = PiecewiseLogCubicDiscount(calc_date, rate_helpers, day_count)"
   ]
  },
  {
   "cell_type": "code",
   "execution_count": 8,
   "metadata": {},
   "outputs": [],
   "source": [
    "# get spot rates\n",
    "spots = []\n",
    "tenors = []\n",
    "for d in yieldcurve.dates():\n",
    "    yrs = day_count.yearFraction(calc_date, d)\n",
    "    compounding = Compounded\n",
    "    freq = Semiannual\n",
    "    zero_rate = yieldcurve.zeroRate(yrs, compounding, freq)\n",
    "    tenors.append(yrs)\n",
    "    eq_rate = zero_rate.equivalentRate(day_count,\n",
    "                                       compounding,\n",
    "                                       freq,\n",
    "                                       calc_date,\n",
    "                                       d).rate()\n",
    "    spots.append(100*eq_rate)"
   ]
  },
  {
   "cell_type": "code",
   "execution_count": 9,
   "metadata": {},
   "outputs": [],
   "source": [
    "def print_curve(xlist, ylist, precision=3):\n",
    "    \"\"\"\n",
    "    Method to print curve in a nice format\n",
    "    \"\"\"\n",
    "    print(\"----------------------\")\n",
    "    print(\"Maturities\\tCurve\")\n",
    "    print(\"----------------------\")\n",
    "    for x,y in zip(xlist, ylist):\n",
    "        print(x,\"\\t\\t\", round(y, precision))\n",
    "    print(\"----------------------\")"
   ]
  },
  {
   "cell_type": "code",
   "execution_count": null,
   "metadata": {},
   "outputs": [],
   "source": [
    "print(tenors)"
   ]
  },
  {
   "cell_type": "code",
   "execution_count": 10,
   "metadata": {},
   "outputs": [
    {
     "name": "stdout",
     "output_type": "stream",
     "text": [
      "----------------------\n",
      "Maturities\tCurve\n",
      "----------------------\n",
      "0.0 \t\t 0.0\n",
      "0.5027777777777778 \t\t 0.0\n",
      "1.0027777777777778 \t\t 0.005\n",
      "1.5 \t\t 0.007\n",
      "2.0 \t\t 0.009\n",
      "2.5 \t\t 0.012\n",
      "3.0 \t\t 0.015\n",
      "3.5 \t\t 0.019\n",
      "4.0 \t\t 0.024\n",
      "4.5 \t\t 0.025\n",
      "5.0 \t\t 0.027\n",
      "5.5 \t\t 0.028\n",
      "6.0 \t\t 0.029\n",
      "6.5 \t\t 0.03\n",
      "7.0 \t\t 0.035\n",
      "7.5 \t\t 0.04\n",
      "8.0 \t\t 0.05\n",
      "8.5 \t\t 0.06\n",
      "9.0 \t\t 0.07\n",
      "9.5 \t\t 0.075\n",
      "10.0 \t\t 0.08\n",
      "----------------------\n"
     ]
    }
   ],
   "source": [
    "print_curve(tenors,spots)"
   ]
  },
  {
   "cell_type": "code",
   "execution_count": null,
   "metadata": {},
   "outputs": [],
   "source": [
    "yieldcurve.dates()"
   ]
  },
  {
   "cell_type": "code",
   "execution_count": null,
   "metadata": {},
   "outputs": [],
   "source": [
    "print(spots)"
   ]
  },
  {
   "cell_type": "markdown",
   "metadata": {},
   "source": [
    "# Bond Valuation"
   ]
  },
  {
   "cell_type": "code",
   "execution_count": 11,
   "metadata": {},
   "outputs": [],
   "source": [
    "spot_dates = yieldcurve.dates()\n",
    "spot_rates = spots\n",
    "interpolation = Linear()\n",
    "compounding = Compounded\n",
    "compounding_frequency = Annual\n",
    "spot_curve = ZeroCurve(spot_dates, spot_rates, day_count, calendar,\n",
    "interpolation, compounding, compounding_frequency)\n",
    "spot_curve_handle = YieldTermStructureHandle(spot_curve)"
   ]
  },
  {
   "cell_type": "code",
   "execution_count": 17,
   "metadata": {},
   "outputs": [],
   "source": [
    "issue_date = Date(15, 1, 2018)\n",
    "maturity_date = Date(15, 1, 2020)\n",
    "tenor = Period(Semiannual)\n",
    "date_generation = DateGeneration.Backward\n",
    "month_end = False\n",
    "schedule = Schedule (issue_date, maturity_date, tenor,\n",
    "calendar, business_convention,\n",
    "business_convention , date_generation,\n",
    "month_end)"
   ]
  },
  {
   "cell_type": "code",
   "execution_count": 18,
   "metadata": {},
   "outputs": [
    {
     "data": {
      "text/plain": [
       "[Date(15,1,2018),\n",
       " Date(15,7,2018),\n",
       " Date(15,1,2019),\n",
       " Date(15,7,2019),\n",
       " Date(15,1,2020)]"
      ]
     },
     "execution_count": 18,
     "metadata": {},
     "output_type": "execute_result"
    }
   ],
   "source": [
    "list(schedule)"
   ]
  },
  {
   "cell_type": "code",
   "execution_count": 19,
   "metadata": {},
   "outputs": [],
   "source": [
    "coupon_rate = .06\n",
    "coupons = [coupon_rate]\n",
    "settlement_days = 0\n",
    "face_value = 100\n",
    "fixed_rate_bond = FixedRateBond(settlement_days,face_value,schedule,coupons,day_count)"
   ]
  },
  {
   "cell_type": "code",
   "execution_count": 20,
   "metadata": {},
   "outputs": [],
   "source": [
    "bond_engine = DiscountingBondEngine(spot_curve_handle)\n",
    "fixed_rate_bond.setPricingEngine(bond_engine)"
   ]
  },
  {
   "cell_type": "code",
   "execution_count": 21,
   "metadata": {},
   "outputs": [
    {
     "data": {
      "text/plain": [
       "110.12721566547108"
      ]
     },
     "execution_count": 21,
     "metadata": {},
     "output_type": "execute_result"
    }
   ],
   "source": [
    "fixed_rate_bond.NPV()"
   ]
  },
  {
   "cell_type": "code",
   "execution_count": null,
   "metadata": {},
   "outputs": [],
   "source": []
  },
  {
   "cell_type": "code",
   "execution_count": null,
   "metadata": {},
   "outputs": [],
   "source": []
  }
 ],
 "metadata": {
  "kernelspec": {
   "display_name": "Python 3.6",
   "language": "python",
   "name": "python36"
  },
  "language_info": {
   "codemirror_mode": {
    "name": "ipython",
    "version": 3
   },
   "file_extension": ".py",
   "mimetype": "text/x-python",
   "name": "python",
   "nbconvert_exporter": "python",
   "pygments_lexer": "ipython3",
   "version": "3.6.3"
  }
 },
 "nbformat": 4,
 "nbformat_minor": 2
}
