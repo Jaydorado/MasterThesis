{
  "cells": [
    {
      "metadata": {
        "trusted": false
      },
      "cell_type": "code",
      "source": "from QuantLib import *\nimport pandas as pd\nimport numpy as np\nimport matplotlib.pyplot as plt\n%matplotlib inline",
      "execution_count": 1,
      "outputs": []
    },
    {
      "metadata": {
        "trusted": false
      },
      "cell_type": "code",
      "source": "depo_maturities = [Period(6,Months), Period(12, Months)]\ndepo_rates = [0.0, 0.005]\n# Bond rates\nbond_maturities = [Period(6*i, Months) for i in range(3,21)]\nbond_rates = [0.007, 0.009, 0.012, 0.015, 0.019, 0.024, 0.025, 0.027, 0.028,\n0.029, 0.03, 0.035, 0.04, 0.05, 0.06, 0.07, 0.075, 0.08]\n",
      "execution_count": 2,
      "outputs": []
    },
    {
      "metadata": {
        "trusted": false
      },
      "cell_type": "code",
      "source": "depo_maturities",
      "execution_count": 3,
      "outputs": [
        {
          "data": {
            "text/plain": "[Period(\"6M\"), Period(\"1Y\")]"
          },
          "execution_count": 3,
          "metadata": {},
          "output_type": "execute_result"
        }
      ]
    },
    {
      "metadata": {
        "trusted": false
      },
      "cell_type": "code",
      "source": "calc_date = Date(15, 1, 2018)\nSettings.instance().evaluationDate = calc_date\ncalendar = UnitedStates()\nbusiness_convention = Unadjusted\nday_count = Thirty360()\nend_of_month = True\nsettlement_days = 0\nface_amount = 100\ncoupon_frequency = Period(Semiannual)\nsettlement_days = 0",
      "execution_count": 4,
      "outputs": []
    },
    {
      "metadata": {
        "trusted": false
      },
      "cell_type": "code",
      "source": "depo_helpers = [DepositRateHelper(QuoteHandle(SimpleQuote(r/100.0)),\n                m,\n                settlement_days,\n                calendar,\n                business_convention,\n                end_of_month,\n                day_count )\nfor r, m in zip(depo_rates, depo_maturities)]",
      "execution_count": 5,
      "outputs": []
    },
    {
      "metadata": {
        "trusted": false
      },
      "cell_type": "code",
      "source": "bond_helpers = []\nfor r, m in zip(bond_rates, bond_maturities):\n    termination_date = calc_date + m\n    schedule = Schedule(calc_date,\n                   termination_date,\n                   coupon_frequency,\n                   calendar,\n                   business_convention,\n                   business_convention,\n                   DateGeneration.Backward,\n                   end_of_month)\n\n    helper = FixedRateBondHelper(QuoteHandle(SimpleQuote(face_amount)),\n                                        settlement_days,\n                                        face_amount,\n                                        schedule,\n                                        [r/100.0],\n                                        day_count,\n                                        business_convention,\n                                        )\n    bond_helpers.append(helper)",
      "execution_count": 6,
      "outputs": []
    },
    {
      "metadata": {
        "trusted": false
      },
      "cell_type": "code",
      "source": "",
      "execution_count": null,
      "outputs": []
    },
    {
      "metadata": {
        "trusted": false
      },
      "cell_type": "code",
      "source": "rate_helpers = depo_helpers + bond_helpers\nyieldcurve = PiecewiseLogCubicDiscount(calc_date, rate_helpers, day_count)",
      "execution_count": 7,
      "outputs": []
    },
    {
      "metadata": {
        "trusted": false
      },
      "cell_type": "code",
      "source": "# get spot rates\nspots = []\ntenors = []\nfor d in yieldcurve.dates():\n    yrs = day_count.yearFraction(calc_date, d)\n    compounding = Compounded\n    freq = Semiannual\n    zero_rate = yieldcurve.zeroRate(yrs, compounding, freq)\n    tenors.append(yrs)\n    eq_rate = zero_rate.equivalentRate(day_count,\n                                       compounding,\n                                       freq,\n                                       calc_date,\n                                       d).rate()\n    spots.append(100*eq_rate)",
      "execution_count": 8,
      "outputs": []
    },
    {
      "metadata": {
        "trusted": false
      },
      "cell_type": "code",
      "source": "def print_curve(xlist, ylist, precision=3):\n    \"\"\"\n    Method to print curve in a nice format\n    \"\"\"\n    print(\"----------------------\")\n    print(\"Maturities\\tCurve\")\n    print(\"----------------------\")\n    for x,y in zip(xlist, ylist):\n        print(x,\"\\t\\t\", round(y, precision))\n    print(\"----------------------\")",
      "execution_count": 9,
      "outputs": []
    },
    {
      "metadata": {
        "trusted": false
      },
      "cell_type": "code",
      "source": "print(tenors)",
      "execution_count": null,
      "outputs": []
    },
    {
      "metadata": {
        "trusted": false
      },
      "cell_type": "code",
      "source": "print_curve(tenors,spots)",
      "execution_count": 10,
      "outputs": [
        {
          "name": "stdout",
          "output_type": "stream",
          "text": "----------------------\nMaturities\tCurve\n----------------------\n0.0 \t\t 0.0\n0.5027777777777778 \t\t 0.0\n1.0027777777777778 \t\t 0.005\n1.5 \t\t 0.007\n2.0 \t\t 0.009\n2.5 \t\t 0.012\n3.0 \t\t 0.015\n3.5 \t\t 0.019\n4.0 \t\t 0.024\n4.5 \t\t 0.025\n5.0 \t\t 0.027\n5.5 \t\t 0.028\n6.0 \t\t 0.029\n6.5 \t\t 0.03\n7.0 \t\t 0.035\n7.5 \t\t 0.04\n8.0 \t\t 0.05\n8.5 \t\t 0.06\n9.0 \t\t 0.07\n9.5 \t\t 0.075\n10.0 \t\t 0.08\n----------------------\n"
        }
      ]
    },
    {
      "metadata": {
        "trusted": false
      },
      "cell_type": "code",
      "source": "yieldcurve.dates()",
      "execution_count": null,
      "outputs": []
    },
    {
      "metadata": {
        "trusted": false
      },
      "cell_type": "code",
      "source": "print(spots)",
      "execution_count": null,
      "outputs": []
    },
    {
      "metadata": {},
      "cell_type": "markdown",
      "source": "# Bond Valuation"
    },
    {
      "metadata": {
        "trusted": false
      },
      "cell_type": "code",
      "source": "spot_dates = yieldcurve.dates()\nspot_rates = spots\ninterpolation = Linear()\ncompounding = Compounded\ncompounding_frequency = Annual\nspot_curve = ZeroCurve(spot_dates, spot_rates, day_count, calendar,\ninterpolation, compounding, compounding_frequency)\nspot_curve_handle = YieldTermStructureHandle(spot_curve)",
      "execution_count": 11,
      "outputs": []
    },
    {
      "metadata": {
        "trusted": false
      },
      "cell_type": "code",
      "source": "issue_date = Date(15, 1, 2018)\nmaturity_date = Date(15, 1, 2020)\ntenor = Period(Semiannual)\ndate_generation = DateGeneration.Backward\nmonth_end = False\nschedule = Schedule (issue_date, maturity_date, tenor,\ncalendar, business_convention,\nbusiness_convention , date_generation,\nmonth_end)",
      "execution_count": 17,
      "outputs": []
    },
    {
      "metadata": {
        "trusted": false
      },
      "cell_type": "code",
      "source": "list(schedule)",
      "execution_count": 18,
      "outputs": [
        {
          "data": {
            "text/plain": "[Date(15,1,2018),\n Date(15,7,2018),\n Date(15,1,2019),\n Date(15,7,2019),\n Date(15,1,2020)]"
          },
          "execution_count": 18,
          "metadata": {},
          "output_type": "execute_result"
        }
      ]
    },
    {
      "metadata": {
        "trusted": false
      },
      "cell_type": "code",
      "source": "coupon_rate = .06\ncoupons = [coupon_rate]\nsettlement_days = 0\nface_value = 100\nfixed_rate_bond = FixedRateBond(settlement_days,face_value,schedule,coupons,day_count)",
      "execution_count": 19,
      "outputs": []
    },
    {
      "metadata": {
        "trusted": false
      },
      "cell_type": "code",
      "source": "bond_engine = DiscountingBondEngine(spot_curve_handle)\nfixed_rate_bond.setPricingEngine(bond_engine)",
      "execution_count": 20,
      "outputs": []
    },
    {
      "metadata": {
        "trusted": false
      },
      "cell_type": "code",
      "source": "fixed_rate_bond.NPV()",
      "execution_count": 21,
      "outputs": [
        {
          "data": {
            "text/plain": "110.12721566547108"
          },
          "execution_count": 21,
          "metadata": {},
          "output_type": "execute_result"
        }
      ]
    },
    {
      "metadata": {
        "trusted": false
      },
      "cell_type": "code",
      "source": "",
      "execution_count": null,
      "outputs": []
    },
    {
      "metadata": {
        "trusted": false
      },
      "cell_type": "code",
      "source": "",
      "execution_count": null,
      "outputs": []
    }
  ],
  "metadata": {
    "kernelspec": {
      "name": "python36",
      "display_name": "Python 3.6",
      "language": "python"
    },
    "language_info": {
      "mimetype": "text/x-python",
      "nbconvert_exporter": "python",
      "name": "python",
      "pygments_lexer": "ipython3",
      "version": "3.6.6",
      "file_extension": ".py",
      "codemirror_mode": {
        "version": 3,
        "name": "ipython"
      }
    }
  },
  "nbformat": 4,
  "nbformat_minor": 2
}